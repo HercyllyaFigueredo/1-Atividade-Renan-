{
  "nbformat": 4,
  "nbformat_minor": 0,
  "metadata": {
    "colab": {
      "provenance": [],
      "mount_file_id": "1n1cJoCP3r7OIl5KEhcaP0tPVxI-KJNjl",
      "authorship_tag": "ABX9TyPuPQyiK12d9fKWnE/M7b6N",
      "include_colab_link": true
    },
    "kernelspec": {
      "name": "python3",
      "display_name": "Python 3"
    },
    "language_info": {
      "name": "python"
    }
  },
  "cells": [
    {
      "cell_type": "markdown",
      "metadata": {
        "id": "view-in-github",
        "colab_type": "text"
      },
      "source": [
        "<a href=\"https://colab.research.google.com/github/HercyllyaFigueredo/1-Atividade-Renan-/blob/main/Atividades%202%20Renan%20Untitled0.ipynb\" target=\"_parent\"><img src=\"https://colab.research.google.com/assets/colab-badge.svg\" alt=\"Open In Colab\"/></a>"
      ]
    },
    {
      "cell_type": "markdown",
      "source": [],
      "metadata": {
        "id": "S8T573TocWiN"
      }
    },
    {
      "cell_type": "markdown",
      "source": [],
      "metadata": {
        "id": "gFcLfUJ5MK8Y"
      }
    },
    {
      "cell_type": "markdown",
      "source": [],
      "metadata": {
        "id": "2aGGpXSYcWSH"
      }
    },
    {
      "cell_type": "code",
      "source": [
        "\n",
        "# Cria uma lista de compras com 10 elementos\n",
        "lista_compras = [\"Arroz\", \"Feijão\", \"Macarrão\", \"Carne\", \"Leite\", \"Ovos\", \"Pão\", \"Queijo\", \"Frutas\", \"Verduras\"]\n",
        "\n",
        "# Na posição 6, cria uma lista com 5 elementos\n",
        "lista_compras[5] = [\"Ovos Brancos\", \"Ovos Caipiras\", \"Ovos de Codorna\", \"Omelete\", \"Ovos Mexidos\"]\n",
        "\n",
        "# Altera 2 elementos da lista\n",
        "lista_compras[1] = \"Lentilha\"\n",
        "lista_compras[9] = \"Legumes\"\n",
        "\n",
        "# Exclui 3 elementos da lista\n",
        "del lista_compras[2]\n",
        "del lista_compras[3]\n",
        "del lista_compras[4]\n",
        "\n",
        "# Adiciona 4 elementos na lista\n",
        "lista_compras.append(\"Chocolate\")\n",
        "lista_compras.append(\"Café\")\n",
        "lista_compras.append(\"Açúcar\")\n",
        "lista_compras.append(\"Sal\")\n",
        "\n",
        "# Acessa o terceiro e quinto elemento da lista\n",
        "terceiro_elemento = lista_compras[2]\n",
        "quinto_elemento = lista_compras[4]\n",
        "\n",
        "# Mostra o número de elementos da lista\n",
        "numero_elementos = len(lista_compras)\n",
        "\n",
        "# Mostra todos os elementos da lista\n",
        "todos_elementos = lista_compras\n",
        "\n",
        "# Imprime os resultados\n",
        "print(\"Terceiro elemento:\", terceiro_elemento)\n",
        "print(\"Quinto elemento:\", quinto_elemento)\n",
        "print(\"Número de elementos:\", numero_elementos)\n",
        "print(\"Todos os elementos:\", todos_elementos)"
      ],
      "metadata": {
        "id": "sNiJZ_f4bfsX",
        "colab": {
          "base_uri": "https://localhost:8080/"
        },
        "outputId": "2e25c570-6b89-41da-9ab0-7986638c1f7b"
      },
      "execution_count": null,
      "outputs": [
        {
          "output_type": "stream",
          "name": "stdout",
          "text": [
            "Terceiro elemento: Carne\n",
            "Quinto elemento: Queijo\n",
            "Número de elementos: 11\n",
            "Todos os elementos: ['Arroz', 'Lentilha', 'Carne', ['Ovos Brancos', 'Ovos Caipiras', 'Ovos de Codorna', 'Omelete', 'Ovos Mexidos'], 'Queijo', 'Frutas', 'Legumes', 'Chocolate', 'Café', 'Açúcar', 'Sal']\n"
          ]
        }
      ]
    }
  ]
}